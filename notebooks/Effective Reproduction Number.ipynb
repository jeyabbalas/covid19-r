{
 "cells": [
  {
   "cell_type": "code",
   "execution_count": 13,
   "metadata": {},
   "outputs": [],
   "source": [
    "import pandas as pd\n",
    "import numpy as np\n",
    "\n",
    "from scipy.stats import gamma\n",
    "\n",
    "from datetime import datetime as dt\n",
    "import json"
   ]
  },
  {
   "cell_type": "code",
   "execution_count": 2,
   "metadata": {},
   "outputs": [],
   "source": [
    "confirmed_data = pd.read_csv(\"https://raw.githubusercontent.com/CSSEGISandData/COVID-19/master/csse_covid_19_data/csse_covid_19_time_series/time_series_covid19_confirmed_global.csv\")"
   ]
  },
  {
   "cell_type": "code",
   "execution_count": 3,
   "metadata": {},
   "outputs": [],
   "source": [
    "confirmed_data = (confirmed_data.groupby('Country/Region').sum()).drop(columns=['Lat','Long'])"
   ]
  },
  {
   "cell_type": "code",
   "execution_count": 4,
   "metadata": {},
   "outputs": [],
   "source": [
    "data_dates = pd.to_datetime(confirmed_data.columns, format='%m/%d/%y') # $dates\n",
    "countries_list = list(confirmed_data.index)"
   ]
  },
  {
   "cell_type": "code",
   "execution_count": 5,
   "metadata": {},
   "outputs": [],
   "source": [
    "confirmed_data = np.array(confirmed_data)"
   ]
  },
  {
   "cell_type": "code",
   "execution_count": 6,
   "metadata": {},
   "outputs": [],
   "source": [
    "epicurves = np.diff(confirmed_data, n=1, axis=1)\n",
    "epicurves[epicurves < 0] = 0"
   ]
  },
  {
   "cell_type": "code",
   "execution_count": 7,
   "metadata": {},
   "outputs": [],
   "source": [
    "def all_nonzero_window_starts(epicurve, win_start, win_size):\n",
    "    win_end = epicurve.shape[0]\n",
    "    all_win_starts = list()\n",
    "    for t in range(win_start,(win_end - win_size)+1):\n",
    "        if np.sum(epicurve[t:t+win_size+1]) > 0:\n",
    "            all_win_starts.append(t)\n",
    "    return all_win_starts\n",
    "\n",
    "\n",
    "def p_all_taus(epicurve, theta):\n",
    "    n_observations = epicurve.shape[0]\n",
    "    all_taus = np.subtract.outer(range(n_observations), range(n_observations))\n",
    "    w_all_taus = gamma.pdf(all_taus, a=theta[0], scale=theta[1])\n",
    "    sum_w_all_taus = np.sum(w_all_taus*epicurve.reshape(1,-1), axis=1)\n",
    "    sum_w_all_taus_matrix = np.tile(sum_w_all_taus, reps=(epicurve.shape[0],1))\n",
    "    sum_w_all_taus_matrix = np.transpose(sum_w_all_taus_matrix)\n",
    "    \n",
    "    p = np.true_divide(w_all_taus, sum_w_all_taus_matrix)\n",
    "    p[np.isinf(p)] = 0.0\n",
    "    p[np.isnan(p)] = 0.0\n",
    "    return p\n",
    "\n",
    "\n",
    "def mean_r_all_windows(epicurve, mean_r_per_day, win_starts, win_size):\n",
    "    n_windows = len(win_starts)\n",
    "    mean_r_per_window = np.zeros(n_windows, np.float32)\n",
    "    for i in range(n_windows):\n",
    "        idx = win_starts[i]\n",
    "        idx_end = idx + win_size + 1\n",
    "        mean_r_per_window[i] = np.sum((mean_r_per_day[idx:idx_end]*epicurve[idx:idx_end]))/np.sum(epicurve[idx:idx_end])\n",
    "    return mean_r_per_window\n",
    "\n",
    "\n",
    "def compute_dynamic_r(epicurves, epi_dates, countries_list):\n",
    "    dynamic_r = dict() # keys are countries\n",
    "    win_size = 7\n",
    "    \n",
    "    # gamma serial interval distribution parameters\n",
    "    theta = [1.46, 0.78]\n",
    "    \n",
    "    # for each region, assure at least one case exists before the window begins\n",
    "    window_starts_per_region = np.argmax(epicurves>0, axis=1) + 1\n",
    "    for idx in range(epicurves.shape[0]):\n",
    "        region_dynamic_r = dict() # keys are 'dates', 'mean_r'\n",
    "        \n",
    "        epicurve = epicurves[idx]\n",
    "        all_win_starts = all_nonzero_window_starts(epicurve, \n",
    "                                                   window_starts_per_region[idx], \n",
    "                                                   win_size = win_size)\n",
    "        p = p_all_taus(epicurve, theta)\n",
    "        mean_r_per_day = np.sum(p*epicurve.reshape(-1,1), axis=0)\n",
    "        mean_r_per_window = mean_r_all_windows(epicurve, mean_r_per_day, \n",
    "                                               all_win_starts, win_size)\n",
    "        \n",
    "        region_dynamic_r['dates'] = epi_dates[all_win_starts]\n",
    "        region_dynamic_r['mean_r'] = mean_r_per_window.tolist()\n",
    "        dynamic_r[countries_list[idx]] = region_dynamic_r\n",
    "    \n",
    "    return dynamic_r\n"
   ]
  },
  {
   "cell_type": "code",
   "execution_count": 39,
   "metadata": {},
   "outputs": [
    {
     "name": "stderr",
     "output_type": "stream",
     "text": [
      "/Library/Frameworks/Python.framework/Versions/3.7/lib/python3.7/site-packages/ipykernel_launcher.py:18: RuntimeWarning: divide by zero encountered in true_divide\n",
      "/Library/Frameworks/Python.framework/Versions/3.7/lib/python3.7/site-packages/ipykernel_launcher.py:18: RuntimeWarning: invalid value encountered in true_divide\n"
     ]
    }
   ],
   "source": [
    "rnumber = compute_dynamic_r(epicurves, data_dates, countries_list)"
   ]
  },
  {
   "cell_type": "code",
   "execution_count": 40,
   "metadata": {},
   "outputs": [
    {
     "data": {
      "text/plain": [
       "[0.997429609298706,\n",
       " 0.997429609298706,\n",
       " 0.8316113352775574,\n",
       " 0.8316113352775574,\n",
       " 0.8316113352775574,\n",
       " 0.8316113352775574,\n",
       " 0.8316113352775574,\n",
       " 0.694835901260376,\n",
       " 0.31906798481941223,\n",
       " 0.31906798481941223,\n",
       " 1.1570727825164795,\n",
       " 1.1570727825164795,\n",
       " 1.5004961490631104,\n",
       " 1.5004961490631104,\n",
       " 1.5004961490631104,\n",
       " 1.5004961490631104,\n",
       " 1.5004961490631104,\n",
       " 1.5004961490631104,\n",
       " 1.8439195156097412,\n",
       " 1.8439195156097412,\n",
       " 18.006494522094727,\n",
       " 18.006494522094727,\n",
       " 18.006494522094727,\n",
       " 1.1644078493118286,\n",
       " 1.1644078493118286,\n",
       " 1.0876164436340332,\n",
       " 1.0961300134658813,\n",
       " 1.170563817024231,\n",
       " 0.6263543963432312,\n",
       " 0.8702800869941711,\n",
       " 1.0161212682724,\n",
       " 1.67244291305542,\n",
       " 1.8084689378738403,\n",
       " 1.673782229423523,\n",
       " 1.8090848922729492,\n",
       " 1.5727312564849854,\n",
       " 1.5797991752624512,\n",
       " 1.7873071432113647,\n",
       " 1.5566165447235107,\n",
       " 1.48228120803833,\n",
       " 1.448945164680481,\n",
       " 1.4187699556350708,\n",
       " 1.435773491859436,\n",
       " 1.5111576318740845,\n",
       " 1.5820051431655884,\n",
       " 1.6106138229370117,\n",
       " 1.9295324087142944,\n",
       " 1.6342310905456543,\n",
       " 1.5311716794967651,\n",
       " 1.480438470840454,\n",
       " 1.444411277770996,\n",
       " 1.350997805595398,\n",
       " 1.3067201375961304,\n",
       " 1.2369414567947388,\n",
       " 0.9098033308982849,\n",
       " 0.8791869282722473]"
      ]
     },
     "execution_count": 40,
     "metadata": {},
     "output_type": "execute_result"
    }
   ],
   "source": [
    "rnumber['US']['mean_r']"
   ]
  },
  {
   "cell_type": "code",
   "execution_count": 41,
   "metadata": {},
   "outputs": [],
   "source": [
    "for country in rnumber.keys():\n",
    "    rnumber[country]['dates'] = list(np.datetime_as_string(rnumber[country]['dates'], unit='D'))"
   ]
  },
  {
   "cell_type": "code",
   "execution_count": 43,
   "metadata": {},
   "outputs": [],
   "source": [
    "with open('/Users/balasubramanijb/Documents/projects/covid_19/rnumber/data/covid_effective_r.json','w') as json_file:\n",
    "    json.dump(rnumber, json_file, sort_keys=True, indent=4, separators=(',', ': '))"
   ]
  },
  {
   "cell_type": "code",
   "execution_count": null,
   "metadata": {},
   "outputs": [],
   "source": []
  }
 ],
 "metadata": {
  "kernelspec": {
   "display_name": "Python 3",
   "language": "python",
   "name": "python3"
  },
  "language_info": {
   "codemirror_mode": {
    "name": "ipython",
    "version": 3
   },
   "file_extension": ".py",
   "mimetype": "text/x-python",
   "name": "python",
   "nbconvert_exporter": "python",
   "pygments_lexer": "ipython3",
   "version": "3.7.6"
  }
 },
 "nbformat": 4,
 "nbformat_minor": 2
}
